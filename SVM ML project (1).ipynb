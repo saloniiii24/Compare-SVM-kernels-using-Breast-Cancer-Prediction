{
 "cells": [
  {
   "cell_type": "markdown",
   "metadata": {},
   "source": [
    "## Name: Saloni Agrawal\n",
    "## Usn: 18BTRCR003"
   ]
  },
  {
   "cell_type": "markdown",
   "metadata": {},
   "source": [
    "# Comparing SVM Kernels performance using Breast Cancer Prediction Dataset."
   ]
  },
  {
   "cell_type": "markdown",
   "metadata": {},
   "source": [
    "# Objective- Breast Cancer Prediction using SVM."
   ]
  },
  {
   "cell_type": "markdown",
   "metadata": {},
   "source": [
    "_Breast cancer is a type of cancer that starts in the breast._ \n",
    "_Cancer starts when cells begin to grow out of control._\n",
    "_Breast cancer cells usually form a tumor that can often be seen on an x-ray or felt as a lump._\n",
    "__It’s important to understand that most breast lumps are benign(non cancerous) and malignant(cancerous).__\n",
    "_It accounts for 25% of all cancer cases, and affected over 2.1 Million people in 2015 alone. It starts when cells in the breast begin to grow out of control. These cells usually form tumors that can be seen via X-ray or felt as lumps in the breast area._\n",
    "_Breast cancer is the most commonly occurring cancer in women and the second most common cancer overall._\n",
    "_There were over 2 million new cases in 2018._"
   ]
  },
  {
   "cell_type": "markdown",
   "metadata": {},
   "source": [
    "# Project Task:\n",
    "\n",
    "__In this study, my task is to classify tumors into malignant (cancerous) or benign (non-cancerous) using features obtained from several cell images.\n",
    "Features are computed from a digitized image of a fine needle aspirate (FNA) of a breast mass. They describe characteristics of the cell nuclei present in the image.__"
   ]
  },
  {
   "cell_type": "markdown",
   "metadata": {},
   "source": [
    "# About the dataset\n",
    "\n",
    "\n",
    "__This dataset was obtained from kaggle (__ https://www.kaggle.com/merishnasuwal/breast-cancer-prediction-dataset __)__\n",
    "_This breast cancer dataset was obtained from the University of Wisconsin Hospitals, Madison from Dr. William H. Wolberg._\n"
   ]
  },
  {
   "cell_type": "markdown",
   "metadata": {},
   "source": [
    "# Attribute Information:\n",
    "\n",
    "_Diagnosis (M = malignant, B = benign)_\n",
    "\n",
    "_Radius (mean of distances from center to points on the perimeter)_\n",
    "\n",
    "_Texture (standard deviation of gray-scale values)_\n",
    "\n",
    "_Perimeter_\n",
    "\n",
    "_Area_\n",
    "\n",
    "_Smoothness (local variation in radius lengths)_\n"
   ]
  },
  {
   "cell_type": "markdown",
   "metadata": {},
   "source": [
    "# Importing Python Libraries."
   ]
  },
  {
   "cell_type": "code",
   "execution_count": 60,
   "metadata": {},
   "outputs": [
    {
     "name": "stderr",
     "output_type": "stream",
     "text": [
      "Using TensorFlow backend.\n"
     ]
    }
   ],
   "source": [
    "import numpy as np\n",
    "import pandas as pd\n",
    "import seaborn as sns\n",
    "import matplotlib.pyplot as plt\n",
    "from sklearn.svm import SVC\n",
    "from sklearn.preprocessing import StandardScaler\n",
    "from sklearn.model_selection import train_test_split\n",
    "from sklearn import metrics\n",
    "from sklearn.metrics import accuracy_score\n",
    "import string\n",
    "import re\n",
    "import nltk\n",
    "import collections\n",
    "from nltk.corpus import stopwords\n",
    "from sklearn.feature_extraction import DictVectorizer\n",
    "from sklearn.pipeline import Pipeline, FeatureUnion\n",
    "from empath import Empath\n",
    "from keras.preprocessing.text import Tokenizer\n",
    "from keras.preprocessing.sequence import pad_sequences\n",
    "import pickle"
   ]
  },
  {
   "cell_type": "markdown",
   "metadata": {},
   "source": [
    "# Read & Load Data"
   ]
  },
  {
   "cell_type": "code",
   "execution_count": 2,
   "metadata": {},
   "outputs": [
    {
     "data": {
      "text/html": [
       "<div>\n",
       "<style scoped>\n",
       "    .dataframe tbody tr th:only-of-type {\n",
       "        vertical-align: middle;\n",
       "    }\n",
       "\n",
       "    .dataframe tbody tr th {\n",
       "        vertical-align: top;\n",
       "    }\n",
       "\n",
       "    .dataframe thead th {\n",
       "        text-align: right;\n",
       "    }\n",
       "</style>\n",
       "<table border=\"1\" class=\"dataframe\">\n",
       "  <thead>\n",
       "    <tr style=\"text-align: right;\">\n",
       "      <th></th>\n",
       "      <th>mean_radius</th>\n",
       "      <th>mean_texture</th>\n",
       "      <th>mean_perimeter</th>\n",
       "      <th>mean_area</th>\n",
       "      <th>mean_smoothness</th>\n",
       "      <th>diagnosis</th>\n",
       "    </tr>\n",
       "  </thead>\n",
       "  <tbody>\n",
       "    <tr>\n",
       "      <th>0</th>\n",
       "      <td>17.99</td>\n",
       "      <td>10.38</td>\n",
       "      <td>122.80</td>\n",
       "      <td>1001.0</td>\n",
       "      <td>0.11840</td>\n",
       "      <td>0</td>\n",
       "    </tr>\n",
       "    <tr>\n",
       "      <th>1</th>\n",
       "      <td>20.57</td>\n",
       "      <td>17.77</td>\n",
       "      <td>132.90</td>\n",
       "      <td>1326.0</td>\n",
       "      <td>0.08474</td>\n",
       "      <td>0</td>\n",
       "    </tr>\n",
       "    <tr>\n",
       "      <th>2</th>\n",
       "      <td>19.69</td>\n",
       "      <td>21.25</td>\n",
       "      <td>130.00</td>\n",
       "      <td>1203.0</td>\n",
       "      <td>0.10960</td>\n",
       "      <td>0</td>\n",
       "    </tr>\n",
       "    <tr>\n",
       "      <th>3</th>\n",
       "      <td>11.42</td>\n",
       "      <td>20.38</td>\n",
       "      <td>77.58</td>\n",
       "      <td>386.1</td>\n",
       "      <td>0.14250</td>\n",
       "      <td>0</td>\n",
       "    </tr>\n",
       "    <tr>\n",
       "      <th>4</th>\n",
       "      <td>20.29</td>\n",
       "      <td>14.34</td>\n",
       "      <td>135.10</td>\n",
       "      <td>1297.0</td>\n",
       "      <td>0.10030</td>\n",
       "      <td>0</td>\n",
       "    </tr>\n",
       "    <tr>\n",
       "      <th>5</th>\n",
       "      <td>12.45</td>\n",
       "      <td>15.70</td>\n",
       "      <td>82.57</td>\n",
       "      <td>477.1</td>\n",
       "      <td>0.12780</td>\n",
       "      <td>0</td>\n",
       "    </tr>\n",
       "    <tr>\n",
       "      <th>6</th>\n",
       "      <td>18.25</td>\n",
       "      <td>19.98</td>\n",
       "      <td>119.60</td>\n",
       "      <td>1040.0</td>\n",
       "      <td>0.09463</td>\n",
       "      <td>0</td>\n",
       "    </tr>\n",
       "    <tr>\n",
       "      <th>7</th>\n",
       "      <td>13.71</td>\n",
       "      <td>20.83</td>\n",
       "      <td>90.20</td>\n",
       "      <td>577.9</td>\n",
       "      <td>0.11890</td>\n",
       "      <td>0</td>\n",
       "    </tr>\n",
       "    <tr>\n",
       "      <th>8</th>\n",
       "      <td>13.00</td>\n",
       "      <td>21.82</td>\n",
       "      <td>87.50</td>\n",
       "      <td>519.8</td>\n",
       "      <td>0.12730</td>\n",
       "      <td>0</td>\n",
       "    </tr>\n",
       "    <tr>\n",
       "      <th>9</th>\n",
       "      <td>12.46</td>\n",
       "      <td>24.04</td>\n",
       "      <td>83.97</td>\n",
       "      <td>475.9</td>\n",
       "      <td>0.11860</td>\n",
       "      <td>0</td>\n",
       "    </tr>\n",
       "  </tbody>\n",
       "</table>\n",
       "</div>"
      ],
      "text/plain": [
       "   mean_radius  mean_texture  mean_perimeter  mean_area  mean_smoothness  \\\n",
       "0        17.99         10.38          122.80     1001.0          0.11840   \n",
       "1        20.57         17.77          132.90     1326.0          0.08474   \n",
       "2        19.69         21.25          130.00     1203.0          0.10960   \n",
       "3        11.42         20.38           77.58      386.1          0.14250   \n",
       "4        20.29         14.34          135.10     1297.0          0.10030   \n",
       "5        12.45         15.70           82.57      477.1          0.12780   \n",
       "6        18.25         19.98          119.60     1040.0          0.09463   \n",
       "7        13.71         20.83           90.20      577.9          0.11890   \n",
       "8        13.00         21.82           87.50      519.8          0.12730   \n",
       "9        12.46         24.04           83.97      475.9          0.11860   \n",
       "\n",
       "   diagnosis  \n",
       "0          0  \n",
       "1          0  \n",
       "2          0  \n",
       "3          0  \n",
       "4          0  \n",
       "5          0  \n",
       "6          0  \n",
       "7          0  \n",
       "8          0  \n",
       "9          0  "
      ]
     },
     "execution_count": 2,
     "metadata": {},
     "output_type": "execute_result"
    }
   ],
   "source": [
    "df = pd.read_csv(\"Breast_cancer_data.csv\")\n",
    "df.head(10)"
   ]
  },
  {
   "cell_type": "code",
   "execution_count": 5,
   "metadata": {},
   "outputs": [
    {
     "data": {
      "text/plain": [
       "Index(['mean_radius', 'mean_texture', 'mean_perimeter', 'mean_area',\n",
       "       'mean_smoothness', 'diagnosis'],\n",
       "      dtype='object')"
      ]
     },
     "execution_count": 5,
     "metadata": {},
     "output_type": "execute_result"
    }
   ],
   "source": [
    "df.columns"
   ]
  },
  {
   "cell_type": "markdown",
   "metadata": {},
   "source": [
    "__Data dictionary__\n",
    "\n",
    "_diagnosis: The diagnosis of breast tissues (1 = malignant, 0 = benign)_"
   ]
  },
  {
   "cell_type": "code",
   "execution_count": 13,
   "metadata": {},
   "outputs": [
    {
     "data": {
      "text/plain": [
       "(569, 6)"
      ]
     },
     "execution_count": 13,
     "metadata": {},
     "output_type": "execute_result"
    }
   ],
   "source": [
    "df.shape"
   ]
  },
  {
   "cell_type": "code",
   "execution_count": 14,
   "metadata": {},
   "outputs": [
    {
     "name": "stdout",
     "output_type": "stream",
     "text": [
      "<class 'pandas.core.frame.DataFrame'>\n",
      "RangeIndex: 569 entries, 0 to 568\n",
      "Data columns (total 6 columns):\n",
      " #   Column           Non-Null Count  Dtype  \n",
      "---  ------           --------------  -----  \n",
      " 0   mean_radius      569 non-null    float64\n",
      " 1   mean_texture     569 non-null    float64\n",
      " 2   mean_perimeter   569 non-null    float64\n",
      " 3   mean_area        569 non-null    float64\n",
      " 4   mean_smoothness  569 non-null    float64\n",
      " 5   diagnosis        569 non-null    int64  \n",
      "dtypes: float64(5), int64(1)\n",
      "memory usage: 26.8 KB\n"
     ]
    }
   ],
   "source": [
    "df.info()"
   ]
  },
  {
   "cell_type": "code",
   "execution_count": 15,
   "metadata": {},
   "outputs": [
    {
     "data": {
      "text/html": [
       "<div>\n",
       "<style scoped>\n",
       "    .dataframe tbody tr th:only-of-type {\n",
       "        vertical-align: middle;\n",
       "    }\n",
       "\n",
       "    .dataframe tbody tr th {\n",
       "        vertical-align: top;\n",
       "    }\n",
       "\n",
       "    .dataframe thead th {\n",
       "        text-align: right;\n",
       "    }\n",
       "</style>\n",
       "<table border=\"1\" class=\"dataframe\">\n",
       "  <thead>\n",
       "    <tr style=\"text-align: right;\">\n",
       "      <th></th>\n",
       "      <th>mean_radius</th>\n",
       "      <th>mean_texture</th>\n",
       "      <th>mean_perimeter</th>\n",
       "      <th>mean_area</th>\n",
       "      <th>mean_smoothness</th>\n",
       "      <th>diagnosis</th>\n",
       "    </tr>\n",
       "  </thead>\n",
       "  <tbody>\n",
       "    <tr>\n",
       "      <th>count</th>\n",
       "      <td>569.000000</td>\n",
       "      <td>569.000000</td>\n",
       "      <td>569.000000</td>\n",
       "      <td>569.000000</td>\n",
       "      <td>569.000000</td>\n",
       "      <td>569.000000</td>\n",
       "    </tr>\n",
       "    <tr>\n",
       "      <th>mean</th>\n",
       "      <td>14.127292</td>\n",
       "      <td>19.289649</td>\n",
       "      <td>91.969033</td>\n",
       "      <td>654.889104</td>\n",
       "      <td>0.096360</td>\n",
       "      <td>0.627417</td>\n",
       "    </tr>\n",
       "    <tr>\n",
       "      <th>std</th>\n",
       "      <td>3.524049</td>\n",
       "      <td>4.301036</td>\n",
       "      <td>24.298981</td>\n",
       "      <td>351.914129</td>\n",
       "      <td>0.014064</td>\n",
       "      <td>0.483918</td>\n",
       "    </tr>\n",
       "    <tr>\n",
       "      <th>min</th>\n",
       "      <td>6.981000</td>\n",
       "      <td>9.710000</td>\n",
       "      <td>43.790000</td>\n",
       "      <td>143.500000</td>\n",
       "      <td>0.052630</td>\n",
       "      <td>0.000000</td>\n",
       "    </tr>\n",
       "    <tr>\n",
       "      <th>25%</th>\n",
       "      <td>11.700000</td>\n",
       "      <td>16.170000</td>\n",
       "      <td>75.170000</td>\n",
       "      <td>420.300000</td>\n",
       "      <td>0.086370</td>\n",
       "      <td>0.000000</td>\n",
       "    </tr>\n",
       "    <tr>\n",
       "      <th>50%</th>\n",
       "      <td>13.370000</td>\n",
       "      <td>18.840000</td>\n",
       "      <td>86.240000</td>\n",
       "      <td>551.100000</td>\n",
       "      <td>0.095870</td>\n",
       "      <td>1.000000</td>\n",
       "    </tr>\n",
       "    <tr>\n",
       "      <th>75%</th>\n",
       "      <td>15.780000</td>\n",
       "      <td>21.800000</td>\n",
       "      <td>104.100000</td>\n",
       "      <td>782.700000</td>\n",
       "      <td>0.105300</td>\n",
       "      <td>1.000000</td>\n",
       "    </tr>\n",
       "    <tr>\n",
       "      <th>max</th>\n",
       "      <td>28.110000</td>\n",
       "      <td>39.280000</td>\n",
       "      <td>188.500000</td>\n",
       "      <td>2501.000000</td>\n",
       "      <td>0.163400</td>\n",
       "      <td>1.000000</td>\n",
       "    </tr>\n",
       "  </tbody>\n",
       "</table>\n",
       "</div>"
      ],
      "text/plain": [
       "       mean_radius  mean_texture  mean_perimeter    mean_area  \\\n",
       "count   569.000000    569.000000      569.000000   569.000000   \n",
       "mean     14.127292     19.289649       91.969033   654.889104   \n",
       "std       3.524049      4.301036       24.298981   351.914129   \n",
       "min       6.981000      9.710000       43.790000   143.500000   \n",
       "25%      11.700000     16.170000       75.170000   420.300000   \n",
       "50%      13.370000     18.840000       86.240000   551.100000   \n",
       "75%      15.780000     21.800000      104.100000   782.700000   \n",
       "max      28.110000     39.280000      188.500000  2501.000000   \n",
       "\n",
       "       mean_smoothness   diagnosis  \n",
       "count       569.000000  569.000000  \n",
       "mean          0.096360    0.627417  \n",
       "std           0.014064    0.483918  \n",
       "min           0.052630    0.000000  \n",
       "25%           0.086370    0.000000  \n",
       "50%           0.095870    1.000000  \n",
       "75%           0.105300    1.000000  \n",
       "max           0.163400    1.000000  "
      ]
     },
     "execution_count": 15,
     "metadata": {},
     "output_type": "execute_result"
    }
   ],
   "source": [
    "df.describe()"
   ]
  },
  {
   "cell_type": "code",
   "execution_count": 6,
   "metadata": {},
   "outputs": [
    {
     "data": {
      "text/plain": [
       "mean_radius        0\n",
       "mean_texture       0\n",
       "mean_perimeter     0\n",
       "mean_area          0\n",
       "mean_smoothness    0\n",
       "diagnosis          0\n",
       "dtype: int64"
      ]
     },
     "execution_count": 6,
     "metadata": {},
     "output_type": "execute_result"
    }
   ],
   "source": [
    "#checking for null values in the dataset\n",
    "df.isnull().sum()"
   ]
  },
  {
   "cell_type": "markdown",
   "metadata": {},
   "source": [
    "__Now, we will be looking at the distribution of classes( Malignant and Benign) in our dataset.__"
   ]
  },
  {
   "cell_type": "code",
   "execution_count": 7,
   "metadata": {},
   "outputs": [
    {
     "data": {
      "text/plain": [
       "1    357\n",
       "0    212\n",
       "Name: diagnosis, dtype: int64"
      ]
     },
     "execution_count": 7,
     "metadata": {},
     "output_type": "execute_result"
    }
   ],
   "source": [
    "count = df.diagnosis.value_counts()\n",
    "count"
   ]
  },
  {
   "cell_type": "markdown",
   "metadata": {},
   "source": [
    "__The distribution can be visualized as well by using a simple plot function of the matplotlib library.__"
   ]
  },
  {
   "cell_type": "code",
   "execution_count": 10,
   "metadata": {},
   "outputs": [
    {
     "data": {
      "image/png": "[encoded data removed]",
      "text/plain": [
       "<Figure size 432x288 with 1 Axes>"
      ]
     },
     "metadata": {
      "needs_background": "light"
     },
     "output_type": "display_data"
    }
   ],
   "source": [
    "sns.countplot(x='diagnosis',data=df)\n",
    "plt.title(\"Distribution of malignant(1) and benign(0) tumor\")\n",
    "plt.xlabel(\"Diagnosis\")\n",
    "plt.ylabel(\"count\")\n",
    "plt.show()"
   ]
  },
  {
   "cell_type": "markdown",
   "metadata": {},
   "source": [
    "#### Target variable/ class\n",
    "\n",
    "_The main motive of our predictor is to correctly predict on the basis of the data available, if the breast cancer is_\n",
    "\n",
    "__Malignant(1) i.e. Harmful ,or\n",
    "Benign(0) i.e. Not Harmful.__\n",
    "\n",
    "_Hence, our target class is Diagnosis_"
   ]
  },
  {
   "cell_type": "code",
   "execution_count": 16,
   "metadata": {},
   "outputs": [],
   "source": [
    "y_target = df['diagnosis']"
   ]
  },
  {
   "cell_type": "markdown",
   "metadata": {},
   "source": [
    "## Feature Selection"
   ]
  },
  {
   "cell_type": "markdown",
   "metadata": {},
   "source": [
    "__Let us now plot out the pairplot of different features to determine which features are better at classifying the 2 classes of our problem.__"
   ]
  },
  {
   "cell_type": "code",
   "execution_count": 17,
   "metadata": {},
   "outputs": [],
   "source": [
    "df['target'] = df['diagnosis'].map({0:'B',1:'M'}) # converting the data into categorical"
   ]
  },
  {
   "cell_type": "code",
   "execution_count": 18,
   "metadata": {},
   "outputs": [
    {
     "data": {
      "image/png": "[encoded data removed]",
      "text/plain": [
       "<Figure size 944.625x900 with 30 Axes>"
      ]
     },
     "metadata": {
      "needs_background": "light"
     },
     "output_type": "display_data"
    }
   ],
   "source": [
    "sns.pairplot(df.drop('diagnosis', axis = 1), hue=\"target\", palette='prism');"
   ]
  },
  {
   "cell_type": "markdown",
   "metadata": {},
   "source": [
    "_The features mean_perimeter and mean_texture seem to be most relevant_"
   ]
  },
  {
   "cell_type": "markdown",
   "metadata": {},
   "source": [
    "## Let's check the correlation between our features"
   ]
  },
  {
   "cell_type": "code",
   "execution_count": 27,
   "metadata": {},
   "outputs": [
    {
     "data": {
      "text/plain": [
       "<AxesSubplot:>"
      ]
     },
     "execution_count": 27,
     "metadata": {},
     "output_type": "execute_result"
    },
    {
     "data": {
      "image/png": "[encoded data removed]",
      "text/plain": [
       "<Figure size 1440x864 with 2 Axes>"
      ]
     },
     "metadata": {
      "needs_background": "light"
     },
     "output_type": "display_data"
    }
   ],
   "source": [
    "plt.figure(figsize=(20, 12))\n",
    "sns.heatmap(df.corr(), annot = True)"
   ]
  },
  {
   "cell_type": "markdown",
   "metadata": {},
   "source": [
    "__There is a strong correlation between mean radius and mean perimeter, as well as mean area and mean perimeter__"
   ]
  },
  {
   "cell_type": "markdown",
   "metadata": {},
   "source": [
    "<h1><center>Support Vector Machine </center></h1>\n",
    "\n",
    "_A Support Vector Machine (SVM) is a binary linear classification whose decision boundary is explicitly constructed to minimize generalization error. It is a very powerful and versatile Machine Learning model, capable of performing linear or nonlinear classification, regression and even outlier detection._"
   ]
  },
  {
   "cell_type": "markdown",
   "metadata": {},
   "source": [
    "### Model Training\n",
    "_From our dataset, let’s create the target and predictor matrix_\n",
    "\n",
    "__“y” = Is the feature we are trying to predict (Output). In this case we are trying to predict if our “target” is cancerous (Malignant) or not (Benign). i.e. we are going to use the “target” feature here.__\n",
    "\n",
    "__“X” = The predictors which are the remaining columns (mean radius, mean texture, mean perimeter, mean area, mean smoothness, etc.)__"
   ]
  },
  {
   "cell_type": "code",
   "execution_count": 86,
   "metadata": {},
   "outputs": [],
   "source": [
    "df = df.drop('diagnosis', axis = 1)"
   ]
  },
  {
   "cell_type": "code",
   "execution_count": 87,
   "metadata": {},
   "outputs": [
    {
     "data": {
      "text/html": [
       "<div>\n",
       "<style scoped>\n",
       "    .dataframe tbody tr th:only-of-type {\n",
       "        vertical-align: middle;\n",
       "    }\n",
       "\n",
       "    .dataframe tbody tr th {\n",
       "        vertical-align: top;\n",
       "    }\n",
       "\n",
       "    .dataframe thead th {\n",
       "        text-align: right;\n",
       "    }\n",
       "</style>\n",
       "<table border=\"1\" class=\"dataframe\">\n",
       "  <thead>\n",
       "    <tr style=\"text-align: right;\">\n",
       "      <th></th>\n",
       "      <th>mean_radius</th>\n",
       "      <th>mean_texture</th>\n",
       "      <th>mean_perimeter</th>\n",
       "      <th>mean_area</th>\n",
       "      <th>mean_smoothness</th>\n",
       "    </tr>\n",
       "  </thead>\n",
       "  <tbody>\n",
       "    <tr>\n",
       "      <th>0</th>\n",
       "      <td>17.99</td>\n",
       "      <td>10.38</td>\n",
       "      <td>122.80</td>\n",
       "      <td>1001.0</td>\n",
       "      <td>0.11840</td>\n",
       "    </tr>\n",
       "    <tr>\n",
       "      <th>1</th>\n",
       "      <td>20.57</td>\n",
       "      <td>17.77</td>\n",
       "      <td>132.90</td>\n",
       "      <td>1326.0</td>\n",
       "      <td>0.08474</td>\n",
       "    </tr>\n",
       "    <tr>\n",
       "      <th>2</th>\n",
       "      <td>19.69</td>\n",
       "      <td>21.25</td>\n",
       "      <td>130.00</td>\n",
       "      <td>1203.0</td>\n",
       "      <td>0.10960</td>\n",
       "    </tr>\n",
       "    <tr>\n",
       "      <th>3</th>\n",
       "      <td>11.42</td>\n",
       "      <td>20.38</td>\n",
       "      <td>77.58</td>\n",
       "      <td>386.1</td>\n",
       "      <td>0.14250</td>\n",
       "    </tr>\n",
       "    <tr>\n",
       "      <th>4</th>\n",
       "      <td>20.29</td>\n",
       "      <td>14.34</td>\n",
       "      <td>135.10</td>\n",
       "      <td>1297.0</td>\n",
       "      <td>0.10030</td>\n",
       "    </tr>\n",
       "  </tbody>\n",
       "</table>\n",
       "</div>"
      ],
      "text/plain": [
       "   mean_radius  mean_texture  mean_perimeter  mean_area  mean_smoothness\n",
       "0        17.99         10.38          122.80     1001.0          0.11840\n",
       "1        20.57         17.77          132.90     1326.0          0.08474\n",
       "2        19.69         21.25          130.00     1203.0          0.10960\n",
       "3        11.42         20.38           77.58      386.1          0.14250\n",
       "4        20.29         14.34          135.10     1297.0          0.10030"
      ]
     },
     "execution_count": 87,
     "metadata": {},
     "output_type": "execute_result"
    }
   ],
   "source": [
    "# input column\n",
    "X = df.drop('target', axis = 1)\n",
    "X.head()"
   ]
  },
  {
   "cell_type": "code",
   "execution_count": 88,
   "metadata": {},
   "outputs": [
    {
     "data": {
      "text/plain": [
       "0    B\n",
       "1    B\n",
       "2    B\n",
       "3    B\n",
       "4    B\n",
       "Name: target, dtype: object"
      ]
     },
     "execution_count": 88,
     "metadata": {},
     "output_type": "execute_result"
    }
   ],
   "source": [
    "# target column\n",
    "y = df['target']\n",
    "y.head()"
   ]
  },
  {
   "cell_type": "markdown",
   "metadata": {},
   "source": [
    "## Scaling Data"
   ]
  },
  {
   "cell_type": "code",
   "execution_count": 89,
   "metadata": {},
   "outputs": [],
   "source": [
    "#Scaling the Data\n",
    "scaler = StandardScaler()\n",
    "scaler.fit(X)\n",
    "X = scaler.transform(X)"
   ]
  },
  {
   "cell_type": "markdown",
   "metadata": {},
   "source": [
    "## Splitting the data into Train and test"
   ]
  },
  {
   "cell_type": "code",
   "execution_count": 90,
   "metadata": {},
   "outputs": [],
   "source": [
    "# Spliting the dataset into train-test\n",
    "X_train,X_test,y_train,y_test = train_test_split(X,y,train_size=0.30,test_size=0.25,random_state=41)"
   ]
  },
  {
   "cell_type": "markdown",
   "metadata": {},
   "source": [
    "<h2><center>Building Support Vector Machine (SVM) Model </center></h2>"
   ]
  },
  {
   "cell_type": "code",
   "execution_count": 91,
   "metadata": {},
   "outputs": [],
   "source": [
    "col_names = ['Kernel Name', 'Accuracy']\n",
    "acc = pd.DataFrame(columns = col_names)"
   ]
  },
  {
   "cell_type": "code",
   "execution_count": 92,
   "metadata": {},
   "outputs": [],
   "source": [
    "def valuation(name, y_test, y_pred):\n",
    "    accuracy = accuracy_score(y_test, y_pred)\n",
    "    print(\"Accuracy of \"+ name + \" is: \"+ str(accuracy))\n",
    "    acc.loc[len(acc.index)] = [name, accuracy]\n",
    "    #Confusion Matrix\n",
    "    print(\"\\nConfusion Matrix:\")\n",
    "    cnf = metrics.confusion_matrix(y_true = y_test,y_pred = y_pred)\n",
    "    return(cnf)\n",
    "    "
   ]
  },
  {
   "cell_type": "markdown",
   "metadata": {},
   "source": [
    "### Support Vector Classification using inbuilt Kernels\n",
    "_SVM provides four inbuilt kernels for classification: ‘linear’, ‘poly’, ‘rbf’, ‘sigmoid’ ('rbf' as default)_"
   ]
  },
  {
   "cell_type": "markdown",
   "metadata": {},
   "source": [
    "<h1><center> 1) LINEAR KERNEL</center> </h1>"
   ]
  },
  {
   "cell_type": "code",
   "execution_count": 93,
   "metadata": {},
   "outputs": [
    {
     "name": "stdout",
     "output_type": "stream",
     "text": [
      "Accuracy of svm_linear is: 0.972027972027972\n",
      "\n",
      "Confusion Matrix:\n"
     ]
    },
    {
     "data": {
      "text/plain": [
       "array([[52,  1],\n",
       "       [ 3, 87]], dtype=int64)"
      ]
     },
     "execution_count": 93,
     "metadata": {},
     "output_type": "execute_result"
    }
   ],
   "source": [
    "# Building a linear SVM model\n",
    "svm_linear = SVC(kernel='linear',probability=True)\n",
    "svm_linear.fit(X_train,y_train)\n",
    "y_pred = svm_linear.predict(X_test)\n",
    "valuation('svm_linear', y_test, y_pred)"
   ]
  },
  {
   "cell_type": "markdown",
   "metadata": {},
   "source": [
    "<h1><center> 2) RBF KERNEL </center></h1>"
   ]
  },
  {
   "cell_type": "code",
   "execution_count": 94,
   "metadata": {},
   "outputs": [
    {
     "name": "stdout",
     "output_type": "stream",
     "text": [
      "Accuracy of svm_gaussian is: 0.972027972027972\n",
      "\n",
      "Confusion Matrix:\n"
     ]
    },
    {
     "data": {
      "text/plain": [
       "array([[53,  0],\n",
       "       [ 4, 86]], dtype=int64)"
      ]
     },
     "execution_count": 94,
     "metadata": {},
     "output_type": "execute_result"
    }
   ],
   "source": [
    "# Building a gaussian SVM model\n",
    "svm_gaussian = SVC(kernel='rbf',probability=True)\n",
    "svm_gaussian.fit(X_train,y_train)\n",
    "y_pred = svm_gaussian.predict(X_test)\n",
    "valuation('svm_gaussian', y_test, y_pred)"
   ]
  },
  {
   "cell_type": "markdown",
   "metadata": {},
   "source": [
    "<h1><center> 3) PLOYNOMIAL KERNEL </center></h1>"
   ]
  },
  {
   "cell_type": "code",
   "execution_count": 95,
   "metadata": {},
   "outputs": [
    {
     "name": "stdout",
     "output_type": "stream",
     "text": [
      "Accuracy of svm_poly is: 0.8881118881118881\n",
      "\n",
      "Confusion Matrix:\n"
     ]
    },
    {
     "data": {
      "text/plain": [
       "array([[38, 15],\n",
       "       [ 1, 89]], dtype=int64)"
      ]
     },
     "execution_count": 95,
     "metadata": {},
     "output_type": "execute_result"
    }
   ],
   "source": [
    "# Building a Polynomial SVM model\n",
    "svm_poly = SVC(kernel='poly',probability=True)\n",
    "svm_poly.fit(X_train,y_train)\n",
    "y_pred = svm_poly.predict(X_test)\n",
    "valuation('svm_poly', y_test, y_pred)"
   ]
  },
  {
   "cell_type": "markdown",
   "metadata": {},
   "source": [
    "<h1> <center> 4)SIGMOID KERNEL</center></h1>"
   ]
  },
  {
   "cell_type": "code",
   "execution_count": 96,
   "metadata": {},
   "outputs": [
    {
     "name": "stdout",
     "output_type": "stream",
     "text": [
      "Accuracy of svm_sigmoid is: 0.9370629370629371\n",
      "\n",
      "Confusion Matrix:\n"
     ]
    },
    {
     "data": {
      "text/plain": [
       "array([[48,  5],\n",
       "       [ 4, 86]], dtype=int64)"
      ]
     },
     "execution_count": 96,
     "metadata": {},
     "output_type": "execute_result"
    }
   ],
   "source": [
    "# Building a Sigmoid SVM model\n",
    "svm_sigmoid = SVC(kernel='sigmoid',probability=True)\n",
    "svm_sigmoid.fit(X_train,y_train)\n",
    "y_pred = svm_sigmoid.predict(X_test)\n",
    "valuation('svm_sigmoid', y_test, y_pred)"
   ]
  },
  {
   "cell_type": "markdown",
   "metadata": {},
   "source": [
    "### SVC using PyKernels\n",
    "\n",
    "_PyKernels is a python library for working with kernel methods in machine learning. It provides\n",
    "implementations of various kernel functions ranging from typical linear, polynomial or rbf ones through\n",
    "wawelet, fourier transformations, kernels for binary sequences and even kernels for labeled graphs._\n",
    "\n",
    "__Below we will go through some of the other SVM kernels.__"
   ]
  },
  {
   "cell_type": "markdown",
   "metadata": {},
   "source": [
    "<h1> <center> 5) COSSIM KERNEL</center></h1>"
   ]
  },
  {
   "cell_type": "code",
   "execution_count": 97,
   "metadata": {},
   "outputs": [
    {
     "name": "stdout",
     "output_type": "stream",
     "text": [
      "Accuracy of svm_cos is: 0.972027972027972\n",
      "\n",
      "Confusion Matrix:\n"
     ]
    },
    {
     "data": {
      "text/plain": [
       "array([[52,  1],\n",
       "       [ 3, 87]], dtype=int64)"
      ]
     },
     "execution_count": 97,
     "metadata": {},
     "output_type": "execute_result"
    }
   ],
   "source": [
    "# Building a cossim SVM model\n",
    "from pykernels.regular import Cossim\n",
    "svm_cos = SVC(kernel = Cossim(),probability=True)\n",
    "svm_cos.fit(X_train,y_train)\n",
    "y_pred = svm_cos.predict(X_test)\n",
    "valuation('svm_cos', y_test, y_pred)"
   ]
  },
  {
   "cell_type": "markdown",
   "metadata": {},
   "source": [
    "<h1><center> 6) Inverse Multiquadratic Kernel</center></h1>"
   ]
  },
  {
   "cell_type": "code",
   "execution_count": 98,
   "metadata": {},
   "outputs": [
    {
     "name": "stdout",
     "output_type": "stream",
     "text": [
      "Accuracy of svm_mul is: 0.965034965034965\n",
      "\n",
      "Confusion Matrix:\n"
     ]
    },
    {
     "data": {
      "text/plain": [
       "array([[52,  1],\n",
       "       [ 4, 86]], dtype=int64)"
      ]
     },
     "execution_count": 98,
     "metadata": {},
     "output_type": "execute_result"
    }
   ],
   "source": [
    "# Building a InverseMultiquadratic SVM model\n",
    "from pykernels.regular import InverseMultiquadratic\n",
    "svm_mul = SVC(kernel = InverseMultiquadratic(),probability=True)\n",
    "svm_mul.fit(X_train,y_train)\n",
    "y_pred = svm_mul.predict(X_test)\n",
    "valuation('svm_mul', y_test, y_pred)"
   ]
  },
  {
   "cell_type": "markdown",
   "metadata": {},
   "source": [
    "<h1><center> 7) Laplacian Kernel</center></h1>"
   ]
  },
  {
   "cell_type": "code",
   "execution_count": 99,
   "metadata": {},
   "outputs": [
    {
     "name": "stdout",
     "output_type": "stream",
     "text": [
      "Accuracy of svm_lap is: 0.972027972027972\n",
      "\n",
      "Confusion Matrix:\n"
     ]
    },
    {
     "data": {
      "text/plain": [
       "array([[52,  1],\n",
       "       [ 3, 87]], dtype=int64)"
      ]
     },
     "execution_count": 99,
     "metadata": {},
     "output_type": "execute_result"
    }
   ],
   "source": [
    "# Building a Laplacian SVM model\n",
    "from pykernels.regular import Laplacian\n",
    "svm_lap = SVC(kernel = Laplacian(),probability=True)\n",
    "svm_lap.fit(X_train,y_train)\n",
    "y_pred = svm_lap.predict(X_test)\n",
    "valuation('svm_lap', y_test, y_pred)"
   ]
  },
  {
   "cell_type": "markdown",
   "metadata": {},
   "source": [
    "<h1><center> 8) Log Kernel</center></h1>"
   ]
  },
  {
   "cell_type": "code",
   "execution_count": 100,
   "metadata": {},
   "outputs": [
    {
     "name": "stdout",
     "output_type": "stream",
     "text": [
      "Accuracy of svm_log is: 0.965034965034965\n",
      "\n",
      "Confusion Matrix:\n"
     ]
    },
    {
     "data": {
      "text/plain": [
       "array([[52,  1],\n",
       "       [ 4, 86]], dtype=int64)"
      ]
     },
     "execution_count": 100,
     "metadata": {},
     "output_type": "execute_result"
    }
   ],
   "source": [
    "# Building a Log SVM model\n",
    "from pykernels.regular import Log\n",
    "svm_log= SVC(kernel = Log(),probability=True)\n",
    "svm_log.fit(X_train,y_train)\n",
    "y_pred = svm_log.predict(X_test)\n",
    "valuation('svm_log', y_test, y_pred)"
   ]
  },
  {
   "cell_type": "markdown",
   "metadata": {},
   "source": [
    "<h1><center> 9) TStudent Kernel</center></h1>"
   ]
  },
  {
   "cell_type": "code",
   "execution_count": 101,
   "metadata": {},
   "outputs": [
    {
     "name": "stdout",
     "output_type": "stream",
     "text": [
      "Accuracy of svm_tst is: 0.958041958041958\n",
      "\n",
      "Confusion Matrix:\n"
     ]
    },
    {
     "data": {
      "text/plain": [
       "array([[52,  1],\n",
       "       [ 5, 85]], dtype=int64)"
      ]
     },
     "execution_count": 101,
     "metadata": {},
     "output_type": "execute_result"
    }
   ],
   "source": [
    "# Building a TStudent SVM model\n",
    "from pykernels.regular import TStudent\n",
    "svm_tst = SVC(kernel = TStudent(),probability=True)\n",
    "svm_tst.fit(X_train,y_train)\n",
    "y_pred = svm_tst.predict(X_test)\n",
    "valuation('svm_tst', y_test,y_pred)"
   ]
  },
  {
   "cell_type": "markdown",
   "metadata": {},
   "source": [
    "<h1><center> 10) ANOVA Kernel </center></h1>"
   ]
  },
  {
   "cell_type": "code",
   "execution_count": 102,
   "metadata": {},
   "outputs": [
    {
     "name": "stdout",
     "output_type": "stream",
     "text": [
      "Accuracy of svm_anova is: 0.951048951048951\n",
      "\n",
      "Confusion Matrix:\n"
     ]
    },
    {
     "data": {
      "text/plain": [
       "array([[51,  2],\n",
       "       [ 5, 85]], dtype=int64)"
      ]
     },
     "execution_count": 102,
     "metadata": {},
     "output_type": "execute_result"
    }
   ],
   "source": [
    "# Building a ANOVA SVM model\n",
    "from pykernels.regular import ANOVA\n",
    "svm_anova = SVC(kernel = ANOVA(),probability=True)\n",
    "svm_anova.fit(X_train,y_train)\n",
    "y_pred = svm_anova.predict(X_test)\n",
    "valuation('svm_anova', y_test,y_pred)"
   ]
  },
  {
   "cell_type": "markdown",
   "metadata": {},
   "source": [
    "### Let's compare all the accuracies of the kernels used."
   ]
  },
  {
   "cell_type": "code",
   "execution_count": 103,
   "metadata": {},
   "outputs": [
    {
     "name": "stdout",
     "output_type": "stream",
     "text": [
      "Accuracy of all the Kernels used are given below:\n"
     ]
    },
    {
     "data": {
      "text/html": [
       "<div>\n",
       "<style scoped>\n",
       "    .dataframe tbody tr th:only-of-type {\n",
       "        vertical-align: middle;\n",
       "    }\n",
       "\n",
       "    .dataframe tbody tr th {\n",
       "        vertical-align: top;\n",
       "    }\n",
       "\n",
       "    .dataframe thead th {\n",
       "        text-align: right;\n",
       "    }\n",
       "</style>\n",
       "<table border=\"1\" class=\"dataframe\">\n",
       "  <thead>\n",
       "    <tr style=\"text-align: right;\">\n",
       "      <th></th>\n",
       "      <th>Kernel Name</th>\n",
       "      <th>Accuracy</th>\n",
       "    </tr>\n",
       "  </thead>\n",
       "  <tbody>\n",
       "    <tr>\n",
       "      <th>0</th>\n",
       "      <td>svm_linear</td>\n",
       "      <td>0.972028</td>\n",
       "    </tr>\n",
       "    <tr>\n",
       "      <th>1</th>\n",
       "      <td>svm_gaussian</td>\n",
       "      <td>0.972028</td>\n",
       "    </tr>\n",
       "    <tr>\n",
       "      <th>2</th>\n",
       "      <td>svm_poly</td>\n",
       "      <td>0.888112</td>\n",
       "    </tr>\n",
       "    <tr>\n",
       "      <th>3</th>\n",
       "      <td>svm_sigmoid</td>\n",
       "      <td>0.937063</td>\n",
       "    </tr>\n",
       "    <tr>\n",
       "      <th>4</th>\n",
       "      <td>svm_cos</td>\n",
       "      <td>0.972028</td>\n",
       "    </tr>\n",
       "    <tr>\n",
       "      <th>5</th>\n",
       "      <td>svm_mul</td>\n",
       "      <td>0.965035</td>\n",
       "    </tr>\n",
       "    <tr>\n",
       "      <th>6</th>\n",
       "      <td>svm_lap</td>\n",
       "      <td>0.972028</td>\n",
       "    </tr>\n",
       "    <tr>\n",
       "      <th>7</th>\n",
       "      <td>svm_log</td>\n",
       "      <td>0.965035</td>\n",
       "    </tr>\n",
       "    <tr>\n",
       "      <th>8</th>\n",
       "      <td>svm_tst</td>\n",
       "      <td>0.958042</td>\n",
       "    </tr>\n",
       "    <tr>\n",
       "      <th>9</th>\n",
       "      <td>svm_anova</td>\n",
       "      <td>0.951049</td>\n",
       "    </tr>\n",
       "  </tbody>\n",
       "</table>\n",
       "</div>"
      ],
      "text/plain": [
       "    Kernel Name  Accuracy\n",
       "0    svm_linear  0.972028\n",
       "1  svm_gaussian  0.972028\n",
       "2      svm_poly  0.888112\n",
       "3   svm_sigmoid  0.937063\n",
       "4       svm_cos  0.972028\n",
       "5       svm_mul  0.965035\n",
       "6       svm_lap  0.972028\n",
       "7       svm_log  0.965035\n",
       "8       svm_tst  0.958042\n",
       "9     svm_anova  0.951049"
      ]
     },
     "execution_count": 103,
     "metadata": {},
     "output_type": "execute_result"
    }
   ],
   "source": [
    "print('Accuracy of all the Kernels used are given below:')\n",
    "acc"
   ]
  },
  {
   "cell_type": "code",
   "execution_count": 104,
   "metadata": {},
   "outputs": [
    {
     "data": {
      "text/html": [
       "<div>\n",
       "<style scoped>\n",
       "    .dataframe tbody tr th:only-of-type {\n",
       "        vertical-align: middle;\n",
       "    }\n",
       "\n",
       "    .dataframe tbody tr th {\n",
       "        vertical-align: top;\n",
       "    }\n",
       "\n",
       "    .dataframe thead th {\n",
       "        text-align: right;\n",
       "    }\n",
       "</style>\n",
       "<table border=\"1\" class=\"dataframe\">\n",
       "  <thead>\n",
       "    <tr style=\"text-align: right;\">\n",
       "      <th></th>\n",
       "      <th>Kernel Name</th>\n",
       "      <th>Accuracy</th>\n",
       "    </tr>\n",
       "  </thead>\n",
       "  <tbody>\n",
       "    <tr>\n",
       "      <th>0</th>\n",
       "      <td>svm_linear</td>\n",
       "      <td>0.972028</td>\n",
       "    </tr>\n",
       "    <tr>\n",
       "      <th>1</th>\n",
       "      <td>svm_gaussian</td>\n",
       "      <td>0.972028</td>\n",
       "    </tr>\n",
       "    <tr>\n",
       "      <th>4</th>\n",
       "      <td>svm_cos</td>\n",
       "      <td>0.972028</td>\n",
       "    </tr>\n",
       "    <tr>\n",
       "      <th>6</th>\n",
       "      <td>svm_lap</td>\n",
       "      <td>0.972028</td>\n",
       "    </tr>\n",
       "    <tr>\n",
       "      <th>5</th>\n",
       "      <td>svm_mul</td>\n",
       "      <td>0.965035</td>\n",
       "    </tr>\n",
       "    <tr>\n",
       "      <th>7</th>\n",
       "      <td>svm_log</td>\n",
       "      <td>0.965035</td>\n",
       "    </tr>\n",
       "    <tr>\n",
       "      <th>8</th>\n",
       "      <td>svm_tst</td>\n",
       "      <td>0.958042</td>\n",
       "    </tr>\n",
       "    <tr>\n",
       "      <th>9</th>\n",
       "      <td>svm_anova</td>\n",
       "      <td>0.951049</td>\n",
       "    </tr>\n",
       "    <tr>\n",
       "      <th>3</th>\n",
       "      <td>svm_sigmoid</td>\n",
       "      <td>0.937063</td>\n",
       "    </tr>\n",
       "    <tr>\n",
       "      <th>2</th>\n",
       "      <td>svm_poly</td>\n",
       "      <td>0.888112</td>\n",
       "    </tr>\n",
       "  </tbody>\n",
       "</table>\n",
       "</div>"
      ],
      "text/plain": [
       "    Kernel Name  Accuracy\n",
       "0    svm_linear  0.972028\n",
       "1  svm_gaussian  0.972028\n",
       "4       svm_cos  0.972028\n",
       "6       svm_lap  0.972028\n",
       "5       svm_mul  0.965035\n",
       "7       svm_log  0.965035\n",
       "8       svm_tst  0.958042\n",
       "9     svm_anova  0.951049\n",
       "3   svm_sigmoid  0.937063\n",
       "2      svm_poly  0.888112"
      ]
     },
     "execution_count": 104,
     "metadata": {},
     "output_type": "execute_result"
    }
   ],
   "source": [
    "acc = acc.sort_values('Accuracy', ascending = False)\n",
    "acc"
   ]
  },
  {
   "cell_type": "markdown",
   "metadata": {},
   "source": [
    "__Maximum Accuracy__"
   ]
  },
  {
   "cell_type": "code",
   "execution_count": 105,
   "metadata": {},
   "outputs": [
    {
     "data": {
      "text/html": [
       "<div>\n",
       "<style scoped>\n",
       "    .dataframe tbody tr th:only-of-type {\n",
       "        vertical-align: middle;\n",
       "    }\n",
       "\n",
       "    .dataframe tbody tr th {\n",
       "        vertical-align: top;\n",
       "    }\n",
       "\n",
       "    .dataframe thead th {\n",
       "        text-align: right;\n",
       "    }\n",
       "</style>\n",
       "<table border=\"1\" class=\"dataframe\">\n",
       "  <thead>\n",
       "    <tr style=\"text-align: right;\">\n",
       "      <th></th>\n",
       "      <th>Kernel Name</th>\n",
       "      <th>Accuracy</th>\n",
       "    </tr>\n",
       "  </thead>\n",
       "  <tbody>\n",
       "    <tr>\n",
       "      <th>0</th>\n",
       "      <td>svm_linear</td>\n",
       "      <td>0.972028</td>\n",
       "    </tr>\n",
       "  </tbody>\n",
       "</table>\n",
       "</div>"
      ],
      "text/plain": [
       "  Kernel Name  Accuracy\n",
       "0  svm_linear  0.972028"
      ]
     },
     "execution_count": 105,
     "metadata": {},
     "output_type": "execute_result"
    }
   ],
   "source": [
    "acc.iloc[:1]"
   ]
  },
  {
   "cell_type": "markdown",
   "metadata": {},
   "source": [
    "__Minimum Accuracy__"
   ]
  },
  {
   "cell_type": "code",
   "execution_count": 107,
   "metadata": {},
   "outputs": [
    {
     "data": {
      "text/html": [
       "<div>\n",
       "<style scoped>\n",
       "    .dataframe tbody tr th:only-of-type {\n",
       "        vertical-align: middle;\n",
       "    }\n",
       "\n",
       "    .dataframe tbody tr th {\n",
       "        vertical-align: top;\n",
       "    }\n",
       "\n",
       "    .dataframe thead th {\n",
       "        text-align: right;\n",
       "    }\n",
       "</style>\n",
       "<table border=\"1\" class=\"dataframe\">\n",
       "  <thead>\n",
       "    <tr style=\"text-align: right;\">\n",
       "      <th></th>\n",
       "      <th>Kernel Name</th>\n",
       "      <th>Accuracy</th>\n",
       "    </tr>\n",
       "  </thead>\n",
       "  <tbody>\n",
       "    <tr>\n",
       "      <th>2</th>\n",
       "      <td>svm_poly</td>\n",
       "      <td>0.888112</td>\n",
       "    </tr>\n",
       "  </tbody>\n",
       "</table>\n",
       "</div>"
      ],
      "text/plain": [
       "  Kernel Name  Accuracy\n",
       "2    svm_poly  0.888112"
      ]
     },
     "execution_count": 107,
     "metadata": {},
     "output_type": "execute_result"
    }
   ],
   "source": [
    "acc.iloc[-1:]"
   ]
  },
  {
   "cell_type": "code",
   "execution_count": 110,
   "metadata": {},
   "outputs": [
    {
     "data": {
      "image/png": "[encoded data removed]",
      "text/plain": [
       "<Figure size 432x288 with 1 Axes>"
      ]
     },
     "metadata": {
      "needs_background": "light"
     },
     "output_type": "display_data"
    }
   ],
   "source": [
    "fig = plt.figure()\n",
    "ax = fig.add_axes([0,0,1,1])\n",
    "ax.bar(acc['Kernel Name'], acc['Accuracy'])\n",
    "plt.show()"
   ]
  },
  {
   "cell_type": "markdown",
   "metadata": {},
   "source": [
    "_Hence we can conclude that_ __SVM Linear Kernel, SVM Gaussian Kernel, SVM Cossim Kernel and SVM Laplacian Kernel__ _are the most accurate kernels from all the kernels used in our dataset._"
   ]
  },
  {
   "cell_type": "markdown",
   "metadata": {},
   "source": [
    "### Normalising our training data"
   ]
  },
  {
   "cell_type": "code",
   "execution_count": 111,
   "metadata": {},
   "outputs": [
    {
     "data": {
      "text/plain": [
       "-3.1120847879199807"
      ]
     },
     "execution_count": 111,
     "metadata": {},
     "output_type": "execute_result"
    }
   ],
   "source": [
    "X_train_min = X_train.min()\n",
    "X_train_min"
   ]
  },
  {
   "cell_type": "code",
   "execution_count": 113,
   "metadata": {},
   "outputs": [
    {
     "data": {
      "text/plain": [
       "4.651888980771197"
      ]
     },
     "execution_count": 113,
     "metadata": {},
     "output_type": "execute_result"
    }
   ],
   "source": [
    "X_train_max = X_train.max()\n",
    "X_train_max"
   ]
  },
  {
   "cell_type": "code",
   "execution_count": 114,
   "metadata": {},
   "outputs": [
    {
     "data": {
      "text/plain": [
       "7.763973768691178"
      ]
     },
     "execution_count": 114,
     "metadata": {},
     "output_type": "execute_result"
    }
   ],
   "source": [
    "X_train_range=X_train_max- X_train_min\n",
    "X_train_range"
   ]
  },
  {
   "cell_type": "code",
   "execution_count": 117,
   "metadata": {},
   "outputs": [
    {
     "data": {
      "text/plain": [
       "array([[0.62225092, 0.40834028, 0.62276237, 0.6188379 , 0.55610793],\n",
       "       [0.37642637, 0.38466191, 0.37680872, 0.36281652, 0.50294449],\n",
       "       [0.30838564, 0.5567048 , 0.30672572, 0.31376621, 0.2026627 ],\n",
       "       [0.41776294, 0.50245434, 0.42429114, 0.40164649, 0.29423215],\n",
       "       [0.33545561, 0.62773994, 0.34343839, 0.3358187 , 0.46536343],\n",
       "       [0.3563068 , 0.31212814, 0.3507597 , 0.3501052 , 0.24546844],\n",
       "       [0.35081965, 0.38735944, 0.3472582 , 0.34285205, 0.40450046],\n",
       "       [0.72870174, 0.41703235, 0.71984933, 0.77708835, 0.37388565],\n",
       "       [0.58493827, 0.61994705, 0.5824421 , 0.57781001, 0.45253088],\n",
       "       [0.33545561, 0.19043927, 0.33171368, 0.33255845, 0.34281253],\n",
       "       [0.27180461, 0.39065643, 0.28046449, 0.28783072, 0.40560039],\n",
       "       [0.29741133, 0.36787723, 0.30513413, 0.3035825 , 0.39680093],\n",
       "       [0.20123979, 0.2557796 , 0.20162775, 0.24416531, 0.35518678],\n",
       "       [0.37313408, 0.3139265 , 0.36969962, 0.36369569, 0.16975637],\n",
       "       [0.41447065, 0.14907704, 0.41309696, 0.39563883, 0.52677637],\n",
       "       [0.40861768, 0.22640642, 0.40370658, 0.39582199, 0.42558251],\n",
       "       [0.29850877, 0.24708754, 0.29378079, 0.30622   , 0.37727711],\n",
       "       [0.54213846, 0.13379099, 0.56440408, 0.5276241 , 0.60285509],\n",
       "       [0.23771109, 0.3651797 , 0.23685494, 0.26581485, 0.27938305],\n",
       "       [0.32996846, 0.22101135, 0.33245642, 0.32790618, 0.49469499],\n",
       "       [0.40422796, 0.65741284, 0.40391879, 0.38948465, 0.27131687],\n",
       "       [0.44263804, 0.20962175, 0.43373457, 0.42670281, 0.26755877],\n",
       "       [0.65590548, 0.43771346, 0.64557515, 0.66792485, 0.40523375],\n",
       "       [0.28936351, 0.38705972, 0.30179179, 0.29339879, 0.63218665],\n",
       "       [0.38776649, 0.2204119 , 0.380098  , 0.37439225, 0.36068645],\n",
       "       [0.5648187 , 0.42962085, 0.56069037, 0.56169191, 0.38286844],\n",
       "       [0.18470517, 0.44310854, 0.19552666, 0.23563005, 0.3796603 ],\n",
       "       [0.39398527, 0.21741463, 0.39203492, 0.37860493, 0.6615182 ],\n",
       "       [0.41081254, 0.63163638, 0.4023272 , 0.39761696, 0.15875703],\n",
       "       [0.51653173, 0.4859694 , 0.51983957, 0.50813585, 0.34244589],\n",
       "       [0.39105878, 0.33011172, 0.39548337, 0.37300023, 0.45803054],\n",
       "       [0.3208232 , 0.44490689, 0.32603701, 0.32248463, 0.30633141],\n",
       "       [0.44958844, 0.54051958, 0.4636034 , 0.42882747, 0.60193848],\n",
       "       [0.26595164, 0.28605195, 0.2663524 , 0.28167653, 0.48277904],\n",
       "       [0.49641216, 0.46978418, 0.49702679, 0.47945296, 0.39845083],\n",
       "       [0.31350699, 0.26297303, 0.31776074, 0.31698983, 0.2599509 ],\n",
       "       [0.3314317 , 0.40893974, 0.32959156, 0.32981104, 0.39625096],\n",
       "       [0.37423151, 0.43771346, 0.38317508, 0.36486791, 0.53135943],\n",
       "       [0.49458311, 0.42812222, 0.48111089, 0.47509375, 0.20477091],\n",
       "       [0.40605701, 0.4985579 , 0.41039126, 0.39164594, 0.46902988],\n",
       "       [0.5187266 , 0.51384394, 0.50180156, 0.50275094, 0.3115561 ],\n",
       "       [0.33984533, 0.54321712, 0.35839933, 0.33526922, 0.60468831],\n",
       "       [0.26851232, 0.51474312, 0.26757262, 0.28336161, 0.44794782],\n",
       "       [0.30143525, 0.14697895, 0.302004  , 0.30867435, 0.37672714],\n",
       "       [0.38557163, 0.38256382, 0.38365255, 0.3701063 , 0.42649912],\n",
       "       [0.3138728 , 0.34899448, 0.31553252, 0.31585423, 0.50111126],\n",
       "       [0.61895863, 0.53782205, 0.62753714, 0.61773894, 0.50752754],\n",
       "       [0.51323944, 0.55760398, 0.51877851, 0.50139556, 0.49927804],\n",
       "       [0.53079834, 0.44430744, 0.53575547, 0.51396035, 0.53960893],\n",
       "       [0.39142459, 0.44310854, 0.38917006, 0.37516152, 0.39551767],\n",
       "       [0.5436017 , 0.32771391, 0.536286  , 0.52359458, 0.33767951],\n",
       "       [0.63688334, 0.48626912, 0.62753714, 0.63349072, 0.35078705],\n",
       "       [0.63724915, 0.45929376, 0.64398356, 0.64448034, 0.5121106 ],\n",
       "       [0.36728111, 0.66370709, 0.36322715, 0.35816425, 0.31238105],\n",
       "       [0.50007027, 0.40594247, 0.48800778, 0.48337259, 0.20000453],\n",
       "       [0.28460797, 0.46259075, 0.29436437, 0.29687883, 0.64226937],\n",
       "       [0.57981692, 0.55970207, 0.56015984, 0.55509814, 0.34519572],\n",
       "       [0.41373903, 0.46588773, 0.4129378 , 0.39838624, 0.38323508],\n",
       "       [0.69870529, 0.41223673, 0.72356304, 0.71371491, 0.73301386],\n",
       "       [0.28936351, 0.26357248, 0.28539842, 0.29746494, 0.43969832],\n",
       "       [0.56664775, 0.33580652, 0.55697666, 0.55546446, 0.48369565],\n",
       "       [0.43276116, 0.28755059, 0.42991476, 0.41168367, 0.28488272],\n",
       "       [0.67821991, 0.33970296, 0.66042999, 0.72726877, 0.37773542],\n",
       "       [0.31570185, 0.3196213 , 0.33197894, 0.31918775, 0.51761026],\n",
       "       [0.50628904, 0.42992058, 0.49490467, 0.49220091, 0.32163882],\n",
       "       [0.31716509, 0.38316328, 0.32635533, 0.3223381 , 0.53410926],\n",
       "       [0.63651753, 0.35528873, 0.6179876 , 0.64667826, 0.29432381],\n",
       "       [0.35740423, 0.30733252, 0.35420814, 0.34688158, 0.42310766],\n",
       "       [0.26046449, 0.65021941, 0.26131236, 0.2786727 , 0.34528738],\n",
       "       [0.42983468, 0.27016646, 0.42460946, 0.41256284, 0.25985923],\n",
       "       [0.21481136, 0.3891578 , 0.23160269, 0.25050266, 0.4312655 ],\n",
       "       [0.38776649, 0.49076502, 0.39373262, 0.37666343, 0.61752087],\n",
       "       [0.28497378, 0.35079284, 0.28847549, 0.29486407, 0.40550873],\n",
       "       [0.35959909, 0.44550635, 0.35595889, 0.35120416, 0.55794115],\n",
       "       [0.63285943, 0.44220936, 0.62753714, 0.63678761, 0.35683668],\n",
       "       [0.31240956, 0.28575223, 0.31096996, 0.3149018 , 0.57169032],\n",
       "       [0.21327495, 0.25428097, 0.21192003, 0.25116203, 0.15967365],\n",
       "       [0.54213846, 0.44190963, 0.53787759, 0.52421732, 0.46719666],\n",
       "       [0.30216687, 0.34150132, 0.3037017 , 0.30673285, 0.51852687],\n",
       "       [0.82527567, 0.34599721, 0.83709644, 0.89724147, 0.5707737 ],\n",
       "       [0.31423861, 0.4700839 , 0.30932532, 0.31768583, 0.30926457],\n",
       "       [0.29558228, 0.26567057, 0.29160562, 0.30380229, 0.27892474],\n",
       "       [0.37349989, 0.74343429, 0.37097289, 0.36505107, 0.36499452],\n",
       "       [0.63432267, 0.65621393, 0.62594555, 0.64411402, 0.35711167],\n",
       "       [0.64237049, 0.75542334, 0.63284243, 0.68074606, 0.38552661],\n",
       "       [0.59371772, 0.5270319 , 0.59782746, 0.58403746, 0.45894716],\n",
       "       [0.22922428, 0.37177368, 0.23027637, 0.26299419, 0.44244816],\n",
       "       [0.35520937, 0.36877641, 0.36094587, 0.34156993, 0.63401987],\n",
       "       [0.49129082, 0.66430654, 0.48747725, 0.47527691, 0.29258225],\n",
       "       [0.44519872, 0.2500848 , 0.45670652, 0.41897345, 0.50111126],\n",
       "       [0.38301096, 0.31242787, 0.3755885 , 0.37039935, 0.2220032 ],\n",
       "       [0.43129792, 0.39515233, 0.42768653, 0.41270937, 0.34180426],\n",
       "       [0.41739713, 0.46798582, 0.42970255, 0.39714075, 0.48369565],\n",
       "       [0.39800918, 0.636432  , 0.39771159, 0.38087612, 0.42769072],\n",
       "       [0.3844742 , 0.31212814, 0.37850641, 0.37175474, 0.36792768],\n",
       "       [0.43166373, 0.33071117, 0.42338924, 0.41219652, 0.4209078 ],\n",
       "       [0.3493564 , 0.35229147, 0.34253649, 0.34457376, 0.24134369],\n",
       "       [0.40532539, 0.47368062, 0.40964852, 0.39281817, 0.41797464],\n",
       "       [0.3456983 , 0.3367057 , 0.34062658, 0.34149667, 0.30431487],\n",
       "       [0.59847325, 0.3891578 , 0.59994958, 0.60674933, 0.57169032],\n",
       "       [0.28863189, 0.2671692 , 0.28592895, 0.29947971, 0.22713622],\n",
       "       [0.3032643 , 0.36697806, 0.30333033, 0.30860109, 0.32906337],\n",
       "       [0.29375323, 0.70297124, 0.28783886, 0.30233701, 0.20037118],\n",
       "       [0.34789316, 0.53722259, 0.35160855, 0.34373122, 0.54602521],\n",
       "       [0.5081181 , 0.45210032, 0.50604579, 0.49743929, 0.54327537],\n",
       "       [0.38191353, 0.56269933, 0.37850641, 0.37069241, 0.36618612],\n",
       "       [0.36142815, 0.40144658, 0.35118412, 0.35406146, 0.25637611],\n",
       "       [0.16791447, 0.55820343, 0.16714331, 0.22724131, 0.        ],\n",
       "       [0.29594809, 0.42092879, 0.30402002, 0.3053042 , 0.25270967],\n",
       "       [0.45105168, 0.45449814, 0.45882864, 0.45512928, 0.54419198],\n",
       "       [0.45946532, 0.16076636, 0.45829811, 0.43465196, 0.47361293],\n",
       "       [0.35447775, 0.22191053, 0.35229824, 0.34585588, 0.55702454],\n",
       "       [0.6390782 , 0.34270023, 0.62806767, 0.64997514, 0.3834184 ],\n",
       "       [0.37788961, 0.20362722, 0.36752444, 0.36834796, 0.19367992],\n",
       "       [0.3175309 , 0.34599721, 0.31367566, 0.31944417, 0.28497438],\n",
       "       [0.36545206, 0.43831291, 0.35887681, 0.35827414, 0.18992181],\n",
       "       [0.2677807 , 0.40084713, 0.27054358, 0.28405761, 0.43319039],\n",
       "       [0.27912082, 0.11370933, 0.27775879, 0.2919335 , 0.39698425],\n",
       "       [0.29119256, 0.49526091, 0.2921892 , 0.29955297, 0.39441774],\n",
       "       [0.38886392, 0.29594292, 0.39267156, 0.37490509, 0.44061493],\n",
       "       [0.33216332, 0.36038408, 0.32815913, 0.32955462, 0.31082281],\n",
       "       [0.29814295, 0.63433391, 0.29362163, 0.30589031, 0.14849099],\n",
       "       [0.41154416, 0.41523399, 0.41415802, 0.39629821, 0.4114667 ],\n",
       "       [0.3811819 , 0.47727733, 0.37532323, 0.36644309, 0.24684336],\n",
       "       [0.64932089, 0.57468838, 0.67157112, 0.65437099, 0.52494315],\n",
       "       [0.41154416, 0.3184224 , 0.41240727, 0.39582199, 0.41137504],\n",
       "       [0.55896573, 0.47937542, 0.5506103 , 0.55473182, 0.38195183],\n",
       "       [0.37423151, 0.33071117, 0.36641033, 0.36329273, 0.2451018 ],\n",
       "       [0.38520582, 0.35139229, 0.37850641, 0.37014293, 0.4296156 ],\n",
       "       [0.66578236, 0.27526181, 0.66255211, 0.66865749, 0.43511527],\n",
       "       [0.53921198, 0.45269978, 0.57289256, 0.52505986, 0.6450192 ],\n",
       "       [0.3493564 , 0.23569794, 0.34678073, 0.34120361, 0.40367551],\n",
       "       [0.31167794, 0.55520617, 0.31807906, 0.30980994, 0.65051887],\n",
       "       [0.30143525, 0.26986673, 0.30301201, 0.30819813, 0.34794556],\n",
       "       [0.35959909, 0.57588729, 0.35118412, 0.35149721, 0.28469939],\n",
       "       [0.23800373, 0.21651545, 0.25308915, 0.26075963, 0.66793448],\n",
       "       [0.47921908, 0.44340826, 0.48004983, 0.45901228, 0.58910593],\n",
       "       [0.47043963, 0.28755059, 0.474214  , 0.45150271, 0.38754315],\n",
       "       [0.32667616, 0.3537901 , 0.32709807, 0.3243895 , 0.46078038],\n",
       "       [0.39252203, 0.32082021, 0.38492582, 0.3805098 , 0.14344963],\n",
       "       [0.29448485, 0.83604971, 0.28847549, 0.30263006, 0.230711  ],\n",
       "       [0.31240956, 0.3379046 , 0.30911311, 0.3149018 , 0.41348325],\n",
       "       [0.39764337, 0.30163772, 0.38922312, 0.38483238, 0.29285723],\n",
       "       [0.55933154, 0.3777682 , 0.55538507, 0.55473182, 0.42264936],\n",
       "       [0.30838564, 0.20752366, 0.3073093 , 0.31208113, 0.34097931],\n",
       "       [0.31899414, 0.37267286, 0.32311909, 0.31926101, 0.37581053],\n",
       "       [0.38191353, 0.57139139, 0.38004495, 0.37439225, 0.38726817],\n",
       "       [0.29228999, 0.4643891 , 0.28932434, 0.30024898, 0.45069766],\n",
       "       [0.52275051, 1.        , 0.51453427, 0.49817194, 0.41696637],\n",
       "       [0.19758169, 0.21531655, 0.20221134, 0.24200402, 0.46719666],\n",
       "       [0.16678046, 0.58667743, 0.16746163, 0.2264354 , 0.25985923],\n",
       "       [0.36728111, 0.579484  , 0.35908902, 0.35798109, 0.32338038],\n",
       "       [0.56555032, 0.57528783, 0.57501468, 0.55949398, 0.49286176],\n",
       "       [0.39471689, 0.33370844, 0.39797686, 0.38160876, 0.52219332],\n",
       "       [0.47409773, 0.35858572, 0.48058036, 0.45663119, 0.4708631 ],\n",
       "       [0.31240956, 0.32231884, 0.30932532, 0.31611066, 0.48094582],\n",
       "       [0.36947597, 0.33280926, 0.3614764 , 0.36109481, 0.29166564],\n",
       "       [0.35959909, 0.47667788, 0.37712704, 0.35135069, 0.68443348],\n",
       "       [0.30619078, 0.14398169, 0.30407307, 0.31079901, 0.30559813],\n",
       "       [0.20881207, 0.28695113, 0.21393605, 0.24922054, 0.27773315],\n",
       "       [0.30363011, 0.30313635, 0.30030631, 0.30845456, 0.3495038 ],\n",
       "       [0.31131213, 0.30733252, 0.3134104 , 0.31497506, 0.55152487],\n",
       "       [0.44629615, 0.50485215, 0.44450433, 0.42769188, 0.36086977],\n",
       "       [0.42800563, 0.32231884, 0.43622806, 0.41095103, 0.58268965],\n",
       "       [0.31058051, 0.33430789, 0.30391391, 0.31515822, 0.21063722],\n",
       "       [0.33033427, 0.2785588 , 0.32677975, 0.32867545, 0.31256437],\n",
       "       [0.26156192, 0.3127276 , 0.25940246, 0.27995482, 0.38231847],\n",
       "       [0.20325175, 0.29714183, 0.20916128, 0.2455207 , 0.57169032],\n",
       "       [0.4056912 , 0.41163727, 0.43193077, 0.39168257, 0.23593569],\n",
       "       [0.51689754, 0.33460762, 0.51241215, 0.50095597, 0.44153155]])"
      ]
     },
     "execution_count": 117,
     "metadata": {},
     "output_type": "execute_result"
    }
   ],
   "source": [
    "X_train_scaled = (X_train - X_train_min)/(X_train_range)\n",
    "X_train_scaled"
   ]
  },
  {
   "cell_type": "code",
   "execution_count": 118,
   "metadata": {},
   "outputs": [],
   "source": [
    "X_test_min = X_test.min()\n",
    "X_test_range = (X_test- X_test_min).max()\n",
    "X_test_scaled = (X_test- X_test_min)/ X_test_range"
   ]
  },
  {
   "cell_type": "markdown",
   "metadata": {},
   "source": [
    "_Now, let’s train our SVM model with our scaled (Normalized) datasets._\n"
   ]
  },
  {
   "cell_type": "code",
   "execution_count": 119,
   "metadata": {},
   "outputs": [
    {
     "data": {
      "text/plain": [
       "SVC()"
      ]
     },
     "execution_count": 119,
     "metadata": {},
     "output_type": "execute_result"
    }
   ],
   "source": [
    "svc_model = SVC()\n",
    "svc_model.fit(X_train_scaled, y_train)"
   ]
  },
  {
   "cell_type": "markdown",
   "metadata": {},
   "source": [
    "__Let's predict using scaled dataset__"
   ]
  },
  {
   "cell_type": "code",
   "execution_count": 121,
   "metadata": {},
   "outputs": [],
   "source": [
    "y_predict = svc_model.predict(X_test_scaled)"
   ]
  },
  {
   "cell_type": "code",
   "execution_count": 128,
   "metadata": {},
   "outputs": [
    {
     "data": {
      "text/html": [
       "<div>\n",
       "<style scoped>\n",
       "    .dataframe tbody tr th:only-of-type {\n",
       "        vertical-align: middle;\n",
       "    }\n",
       "\n",
       "    .dataframe tbody tr th {\n",
       "        vertical-align: top;\n",
       "    }\n",
       "\n",
       "    .dataframe thead th {\n",
       "        text-align: right;\n",
       "    }\n",
       "</style>\n",
       "<table border=\"1\" class=\"dataframe\">\n",
       "  <thead>\n",
       "    <tr style=\"text-align: right;\">\n",
       "      <th></th>\n",
       "      <th>predicted_cancer</th>\n",
       "      <th>predicted_healthy</th>\n",
       "    </tr>\n",
       "  </thead>\n",
       "  <tbody>\n",
       "    <tr>\n",
       "      <th>has_cancer</th>\n",
       "      <td>90</td>\n",
       "      <td>0</td>\n",
       "    </tr>\n",
       "    <tr>\n",
       "      <th>is_healthy</th>\n",
       "      <td>26</td>\n",
       "      <td>27</td>\n",
       "    </tr>\n",
       "  </tbody>\n",
       "</table>\n",
       "</div>"
      ],
      "text/plain": [
       "            predicted_cancer  predicted_healthy\n",
       "has_cancer                90                  0\n",
       "is_healthy                26                 27"
      ]
     },
     "execution_count": 128,
     "metadata": {},
     "output_type": "execute_result"
    }
   ],
   "source": [
    "from sklearn.metrics import classification_report, confusion_matrix\n",
    "cm = np.array(confusion_matrix(y_test,y_predict, labels=['M','B']))\n",
    "confusion= pd.DataFrame(cm, index=['has_cancer', 'is_healthy'], columns = ['predicted_cancer', 'predicted_healthy'])\n",
    "confusion"
   ]
  },
  {
   "cell_type": "code",
   "execution_count": 127,
   "metadata": {},
   "outputs": [
    {
     "data": {
      "text/plain": [
       "<AxesSubplot:>"
      ]
     },
     "execution_count": 127,
     "metadata": {},
     "output_type": "execute_result"
    },
    {
     "data": {
      "image/png": "[encoded data removed]",
      "text/plain": [
       "<Figure size 432x288 with 2 Axes>"
      ]
     },
     "metadata": {
      "needs_background": "light"
     },
     "output_type": "display_data"
    }
   ],
   "source": [
    "sns.heatmap(confusion, annot = True)"
   ]
  },
  {
   "cell_type": "code",
   "execution_count": 129,
   "metadata": {},
   "outputs": [
    {
     "name": "stdout",
     "output_type": "stream",
     "text": [
      "              precision    recall  f1-score   support\n",
      "\n",
      "           B       1.00      0.51      0.67        53\n",
      "           M       0.78      1.00      0.87        90\n",
      "\n",
      "    accuracy                           0.82       143\n",
      "   macro avg       0.89      0.75      0.77       143\n",
      "weighted avg       0.86      0.82      0.80       143\n",
      "\n"
     ]
    }
   ],
   "source": [
    "print(classification_report(y_test, y_predict))"
   ]
  }
 ],
 "metadata": {
  "kernelspec": {
   "display_name": "Python 3",
   "language": "python",
   "name": "python3"
  },
  "language_info": {
   "codemirror_mode": {
    "name": "ipython",
    "version": 3
   },
   "file_extension": ".py",
   "mimetype": "text/x-python",
   "name": "python",
   "nbconvert_exporter": "python",
   "pygments_lexer": "ipython3",
   "version": "3.7.3"
  }
 },
 "nbformat": 4,
 "nbformat_minor": 4
}
